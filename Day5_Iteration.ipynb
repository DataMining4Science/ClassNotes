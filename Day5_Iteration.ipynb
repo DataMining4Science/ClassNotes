{
 "cells": [
  {
   "cell_type": "markdown",
   "metadata": {},
   "source": [
    "# Map\n",
    "\n",
    "One common use of iteration is *mapping*: applying a modification to each element in a list, and return the list of modified elements."
   ]
  },
  {
   "cell_type": "code",
   "execution_count": 4,
   "metadata": {
    "collapsed": false
   },
   "outputs": [
    {
     "name": "stdout",
     "output_type": "stream",
     "text": [
      "add_one -> None\n",
      "L = [11, 21, 31, 41]\n"
     ]
    }
   ],
   "source": [
    "# With side effects. Uses `while`.\n",
    "\n",
    "# An loop includes three components: an *initialization*, an *end condition*, and a *modification* (or *step*).\n",
    "# They're labelled below.\n",
    "\n",
    "def add_one(xs):\n",
    "    \"\"\"Adds one to each of the numbers in the list of numbers `xs`.\n",
    "    Modifies its argument.\"\"\"\n",
    "    i = 0  # `i` is the loop variable. This statement *initializes* it.\n",
    "    while i < len(xs):  # `i < len(xs)` is the *end condition*\n",
    "        xs[i] = xs[i] + 1\n",
    "        i = i + 1  # This is the *modification* of the loop variable.\n",
    "\n",
    "L = [10, 20, 30, 40]\n",
    "print 'add_one ->', add_one(L)  # `add_one` is a fruitless function. This returns None.\n",
    "print 'L =', L  # L has been modified."
   ]
  },
  {
   "cell_type": "code",
   "execution_count": 5,
   "metadata": {
    "collapsed": false
   },
   "outputs": [
    {
     "name": "stdout",
     "output_type": "stream",
     "text": [
      "add_one -> [11, 21, 31, 41]\n",
      "L = [10, 20, 30, 40]\n"
     ]
    }
   ],
   "source": [
    "# A pure (side-effect free) fruitful function, that returns a new value.\n",
    "# This function also uses `while`.\n",
    "\n",
    "# Code that constructs a new list generally uses an *accumulator* to collect the new values into,\n",
    "# and includes these stages:\n",
    "# * *Initializing* the accumulator\n",
    "# * *Modifying* the accumulator (adding or extending it with new values)\n",
    "# * *Returning* the accumulated values\n",
    "# These stages are labelled below.\n",
    "\n",
    "# This function *also* includes the components of the while loop.\n",
    "# The loop components and the accumulator components alternate here.\n",
    "\n",
    "def add_one(xs):\n",
    "    \"\"\"Adds one to each of the numbers in the list of numbers `xs`.\n",
    "    Returns a new list.\"\"\"\n",
    "    ys = []                   # accumulator: initialize\n",
    "    i = 0                     # loop: initialize\n",
    "    while i < len(xs):        # loop: end condition\n",
    "        ys.append(xs[i] + 1)  # accumulator: modify\n",
    "        i = i + 1             # loop: modify\n",
    "    return ys                 # accumulator: return\n",
    "\n",
    "L = [10, 20, 30, 40]\n",
    "print 'add_one ->', add_one(L)  # `add_one` returns a new list\n",
    "print 'L =', L  # L is unchanged"
   ]
  },
  {
   "cell_type": "code",
   "execution_count": 6,
   "metadata": {
    "collapsed": false
   },
   "outputs": [
    {
     "name": "stdout",
     "output_type": "stream",
     "text": [
      "[11, 21, 31, 41]\n"
     ]
    }
   ],
   "source": [
    "# This function has the same functionality as the preceding function,\n",
    "# but replaces the `while` statement by a `for` loop.\n",
    "\n",
    "# This combines the three components of the iteration – initialization, end condition, and modification –\n",
    "# into one statement: `for i in range(…)`.\n",
    "\n",
    "def add_one(xs):\n",
    "    ys = []\n",
    "    for i in range(len(xs)):\n",
    "        ys.append(xs[i] + 1)\n",
    "    return ys\n",
    "\n",
    "print add_one([10, 20, 30, 40])"
   ]
  },
  {
   "cell_type": "code",
   "execution_count": 8,
   "metadata": {
    "collapsed": false
   },
   "outputs": [
    {
     "name": "stdout",
     "output_type": "stream",
     "text": [
      "[11, 21, 31, 41]\n"
     ]
    }
   ],
   "source": [
    "# In the functions above, the index (i) is used only to retrieve the elements of the list.\n",
    "# This function iterates over the elements of the list directly, instead of iterating over the indices.\n",
    "\n",
    "def add_one(xs):\n",
    "    ys = []\n",
    "    for x in xs:\n",
    "        ys.append(x + 1)\n",
    "    return ys\n",
    "\n",
    "print add_one([10, 20, 30, 40])"
   ]
  },
  {
   "cell_type": "code",
   "execution_count": 11,
   "metadata": {
    "collapsed": false
   },
   "outputs": [
    {
     "name": "stdout",
     "output_type": "stream",
     "text": [
      "[11, 21, 31, 41]\n"
     ]
    }
   ],
   "source": [
    "# Same function, using a *list comprehension*.\n",
    "# The list comprehension (square brackets with a for loop inside) replace the use of an accumulation variable.\n",
    "\n",
    "def add_one(xs):\n",
    "    return [x + 1 for x in xs]\n",
    "\n",
    "print add_one([10, 20, 30, 40])"
   ]
  },
  {
   "cell_type": "code",
   "execution_count": 9,
   "metadata": {
    "collapsed": false
   },
   "outputs": [
    {
     "name": "stdout",
     "output_type": "stream",
     "text": [
      "[11, 21, 31, 41]\n"
     ]
    }
   ],
   "source": [
    "# Uncovered material: using a nested function, and the `map` built-in function.\n",
    "\n",
    "def add_one(xs):\n",
    "    def addone(n):\n",
    "        return n + 1\n",
    "    return map(addone, xs)\n",
    "\n",
    "print add_one([10, 20, 30, 40])"
   ]
  },
  {
   "cell_type": "code",
   "execution_count": null,
   "metadata": {
    "collapsed": true
   },
   "outputs": [],
   "source": [
    "# Enumerate"
   ]
  },
  {
   "cell_type": "code",
   "execution_count": 10,
   "metadata": {
    "collapsed": false,
    "scrolled": true
   },
   "outputs": [
    {
     "name": "stdout",
     "output_type": "stream",
     "text": [
      "[11, 21, 31, 41]\n"
     ]
    }
   ],
   "source": [
    "# We've covered two kinds of for loops: iterating over the *indices*, and iterating over the *values*.\n",
    "# What if we need both the index, *and* the value at that position?\n",
    "\n",
    "# Here's one way to do this:\n",
    "def add_index(xs):\n",
    "    ys = []\n",
    "    for i in range(len(xs)):\n",
    "        ys.append(xs[i] + i)\n",
    "    return ys\n",
    "\n",
    "print add_one([10, 20, 30, 40])"
   ]
  },
  {
   "cell_type": "code",
   "execution_count": 12,
   "metadata": {
    "collapsed": false
   },
   "outputs": [
    {
     "ename": "IndentationError",
     "evalue": "expected an indented block (<ipython-input-12-0b1a49941a20>, line 7)",
     "output_type": "error",
     "traceback": [
      "\u001b[0;36m  File \u001b[0;32m\"<ipython-input-12-0b1a49941a20>\"\u001b[0;36m, line \u001b[0;32m7\u001b[0m\n\u001b[0;31m    for x in xs:\u001b[0m\n\u001b[0m      ^\u001b[0m\n\u001b[0;31mIndentationError\u001b[0m\u001b[0;31m:\u001b[0m expected an indented block\n"
     ]
    }
   ],
   "source": [
    "# It would be cool if we could iterate over both of these at once:\n",
    "\n",
    "def add_one(xs):\n",
    "    ys = []\n",
    "    # This isn't valid Python:\n",
    "    for i in range(len(xs)):\n",
    "    for x in xs:\n",
    "        ys.append(x + i)\n",
    "    return ys\n",
    "\n",
    "print add_one([10, 20, 30, 40])"
   ]
  },
  {
   "cell_type": "code",
   "execution_count": 13,
   "metadata": {
    "collapsed": false
   },
   "outputs": [
    {
     "name": "stdout",
     "output_type": "stream",
     "text": [
      "[10, 21, 32, 43]\n"
     ]
    }
   ],
   "source": [
    "# We can do this instead:\n",
    "\n",
    "def add_one(xs):\n",
    "    ys = []\n",
    "    for i, x in enumerate(xs):\n",
    "        ys.append(x + i)\n",
    "    return ys\n",
    "\n",
    "print add_one([10, 20, 30, 40])"
   ]
  },
  {
   "cell_type": "markdown",
   "metadata": {},
   "source": [
    "# Filter\n",
    "\n",
    "Another common use of iteration is *filtering*: returning a list that contains only some items from the original list."
   ]
  },
  {
   "cell_type": "code",
   "execution_count": 14,
   "metadata": {
    "collapsed": false
   },
   "outputs": [
    {
     "name": "stdout",
     "output_type": "stream",
     "text": [
      "events ->"
     ]
    },
    {
     "ename": "IndexError",
     "evalue": "list index out of range",
     "output_type": "error",
     "traceback": [
      "\u001b[0;31m---------------------------------------------------------------------------\u001b[0m",
      "\u001b[0;31mIndexError\u001b[0m                                Traceback (most recent call last)",
      "\u001b[0;32m<ipython-input-14-6b497700a312>\u001b[0m in \u001b[0;36m<module>\u001b[0;34m()\u001b[0m\n\u001b[1;32m     10\u001b[0m \u001b[0;34m\u001b[0m\u001b[0m\n\u001b[1;32m     11\u001b[0m \u001b[0mL\u001b[0m \u001b[0;34m=\u001b[0m \u001b[0mrange\u001b[0m\u001b[0;34m(\u001b[0m\u001b[0;36m10\u001b[0m\u001b[0;34m)\u001b[0m\u001b[0;34m\u001b[0m\u001b[0m\n\u001b[0;32m---> 12\u001b[0;31m \u001b[0;32mprint\u001b[0m \u001b[0;34m'events ->'\u001b[0m\u001b[0;34m,\u001b[0m \u001b[0mevens\u001b[0m\u001b[0;34m(\u001b[0m\u001b[0mL\u001b[0m\u001b[0;34m)\u001b[0m\u001b[0;34m\u001b[0m\u001b[0m\n\u001b[0m\u001b[1;32m     13\u001b[0m \u001b[0;32mprint\u001b[0m \u001b[0;34m'L ='\u001b[0m\u001b[0;34m,\u001b[0m \u001b[0mL\u001b[0m\u001b[0;34m\u001b[0m\u001b[0m\n",
      "\u001b[0;32m<ipython-input-14-6b497700a312>\u001b[0m in \u001b[0;36mevens\u001b[0;34m(xs)\u001b[0m\n\u001b[1;32m      6\u001b[0m \u001b[0;32mdef\u001b[0m \u001b[0mevens\u001b[0m\u001b[0;34m(\u001b[0m\u001b[0mxs\u001b[0m\u001b[0;34m)\u001b[0m\u001b[0;34m:\u001b[0m\u001b[0;34m\u001b[0m\u001b[0m\n\u001b[1;32m      7\u001b[0m     \u001b[0;32mfor\u001b[0m \u001b[0mi\u001b[0m \u001b[0;32min\u001b[0m \u001b[0mrange\u001b[0m\u001b[0;34m(\u001b[0m\u001b[0mlen\u001b[0m\u001b[0;34m(\u001b[0m\u001b[0mxs\u001b[0m\u001b[0;34m)\u001b[0m\u001b[0;34m)\u001b[0m\u001b[0;34m:\u001b[0m\u001b[0;34m\u001b[0m\u001b[0m\n\u001b[0;32m----> 8\u001b[0;31m         \u001b[0;32mif\u001b[0m \u001b[0;32mnot\u001b[0m \u001b[0mis_even\u001b[0m\u001b[0;34m(\u001b[0m\u001b[0mxs\u001b[0m\u001b[0;34m[\u001b[0m\u001b[0mi\u001b[0m\u001b[0;34m]\u001b[0m\u001b[0;34m)\u001b[0m\u001b[0;34m:\u001b[0m\u001b[0;34m\u001b[0m\u001b[0m\n\u001b[0m\u001b[1;32m      9\u001b[0m             \u001b[0mxs\u001b[0m\u001b[0;34m.\u001b[0m\u001b[0mpop\u001b[0m\u001b[0;34m(\u001b[0m\u001b[0mi\u001b[0m\u001b[0;34m)\u001b[0m\u001b[0;34m\u001b[0m\u001b[0m\n\u001b[1;32m     10\u001b[0m \u001b[0;34m\u001b[0m\u001b[0m\n",
      "\u001b[0;31mIndexError\u001b[0m: list index out of range"
     ]
    }
   ],
   "source": [
    "# Helper function, that we're going to use in our filters.\n",
    "def is_even(n):\n",
    "    return n % 2 == 0\n",
    "\n",
    "# First approach: modify the list in place.\n",
    "# This doesn't work. Why?\n",
    "def evens(xs):\n",
    "    for i in range(len(xs)):\n",
    "        if not is_even(xs[i]):\n",
    "            xs.pop(i)\n",
    "\n",
    "L = range(10)\n",
    "print 'events ->', evens(L)\n",
    "print 'L =', L"
   ]
  },
  {
   "cell_type": "code",
   "execution_count": 16,
   "metadata": {
    "collapsed": false
   },
   "outputs": [
    {
     "name": "stdout",
     "output_type": "stream",
     "text": [
      "evens -> None\n",
      "L = [0, 2, 4, 6, 8]\n"
     ]
    }
   ],
   "source": [
    "# Another attempt to modify the list in place.\n",
    "def evens(xs):\n",
    "    for x in xs:\n",
    "        if not is_even(x):\n",
    "            xs.remove(x)\n",
    "\n",
    "L = range(10)\n",
    "print 'evens ->', evens(L)\n",
    "print 'L =', L"
   ]
  },
  {
   "cell_type": "code",
   "execution_count": 18,
   "metadata": {
    "collapsed": false
   },
   "outputs": [
    {
     "name": "stdout",
     "output_type": "stream",
     "text": [
      "[0, 2, 4, 6, 8]\n"
     ]
    }
   ],
   "source": [
    "# Use a `for` statement to construct a new list.\n",
    "\n",
    "def evens(xs):\n",
    "    ys = []  # initialize the accumulator\n",
    "    for x in xs:\n",
    "        if is_even(x):  # test the element\n",
    "            ys.append(x)  # modify the accumulator\n",
    "    return ys  # return the accumulator\n",
    "\n",
    "print evens(range(10))"
   ]
  },
  {
   "cell_type": "code",
   "execution_count": 19,
   "metadata": {
    "collapsed": false
   },
   "outputs": [
    {
     "name": "stdout",
     "output_type": "stream",
     "text": [
      "[0, 2, 4, 6, 8]\n"
     ]
    }
   ],
   "source": [
    "# Here's the same functionality, using a list comprehension.\n",
    "\n",
    "def evens(xs):\n",
    "    return [x for x in xs if is_even(x)]\n",
    "\n",
    "print evens(range(10))"
   ]
  },
  {
   "cell_type": "code",
   "execution_count": 20,
   "metadata": {
    "collapsed": false
   },
   "outputs": [
    {
     "name": "stdout",
     "output_type": "stream",
     "text": [
      "[0, 2, 4, 6, 8]\n"
     ]
    }
   ],
   "source": [
    "# …and using the built-in `filter` function:\n",
    "\n",
    "def evens(xs):\n",
    "    return filter(is_even, xs)\n",
    "\n",
    "print evens(range(10))"
   ]
  }
 ],
 "metadata": {
  "kernelspec": {
   "display_name": "Python 2",
   "language": "python",
   "name": "python2"
  },
  "language_info": {
   "codemirror_mode": {
    "name": "ipython",
    "version": 2
   },
   "file_extension": ".py",
   "mimetype": "text/x-python",
   "name": "python",
   "nbconvert_exporter": "python",
   "pygments_lexer": "ipython2",
   "version": "2.7.11"
  }
 },
 "nbformat": 4,
 "nbformat_minor": 0
}
