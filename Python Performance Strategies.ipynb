{
 "cells": [
  {
   "cell_type": "markdown",
   "metadata": {},
   "source": [
    "# Python Performance Techniques\n",
    "This notebook explores some techniques for improving the speed of Python programs.\n",
    "Note the times below each cell, and compare them between implementations.\n",
    "If you run the same cells on your computer, you'll get different times, but the *ratios* between different implementations should stay about the same. "
   ]
  },
  {
   "cell_type": "markdown",
   "metadata": {},
   "source": [
    "## Prefer built-in functions"
   ]
  },
  {
   "cell_type": "markdown",
   "metadata": {},
   "source": [
    "`'x' in string` (the first cell) uses a built-in function for testing whether a character (or substring) is in a string. The following implementations of `find_char` are all slower."
   ]
  },
  {
   "cell_type": "code",
   "execution_count": 8,
   "metadata": {
    "collapsed": false
   },
   "outputs": [
    {
     "name": "stdout",
     "output_type": "stream",
     "text": [
      "CPU times: user 142 µs, sys: 119 µs, total: 261 µs\n",
      "Wall time: 181 µs\n"
     ]
    }
   ],
   "source": [
    "%%time\n",
    "for _ in xrange(1000):\n",
    "    assert 'x' in 'abcdefghijklmnopqrstuvwxyz'"
   ]
  },
  {
   "cell_type": "code",
   "execution_count": 10,
   "metadata": {
    "collapsed": false,
    "scrolled": true
   },
   "outputs": [
    {
     "name": "stdout",
     "output_type": "stream",
     "text": [
      "CPU times: user 2.26 ms, sys: 633 µs, total: 2.9 ms\n",
      "Wall time: 2.56 ms\n"
     ]
    }
   ],
   "source": [
    "%%time\n",
    "def find_char(c, string):\n",
    "    for c1 in string:\n",
    "        if c == c1:\n",
    "            return True\n",
    "    return False\n",
    "\n",
    "for _ in xrange(1000):\n",
    "    assert find_char('x', 'abcdefghijklmnopqrstuvwxyz')"
   ]
  },
  {
   "cell_type": "code",
   "execution_count": 12,
   "metadata": {
    "collapsed": false
   },
   "outputs": [
    {
     "name": "stdout",
     "output_type": "stream",
     "text": [
      "CPU times: user 2.61 ms, sys: 848 µs, total: 3.46 ms\n",
      "Wall time: 2.88 ms\n"
     ]
    }
   ],
   "source": [
    "%%time\n",
    "def find_char(c, string):\n",
    "    for i in range(len(string)):\n",
    "        if string[i] == c:\n",
    "            return True\n",
    "    return False\n",
    "\n",
    "for _ in xrange(1000):\n",
    "    assert find_char('x', 'abcdefghijklmnopqrstuvwxyz')"
   ]
  },
  {
   "cell_type": "code",
   "execution_count": 14,
   "metadata": {
    "collapsed": false
   },
   "outputs": [
    {
     "name": "stdout",
     "output_type": "stream",
     "text": [
      "CPU times: user 4.16 ms, sys: 1.14 ms, total: 5.3 ms\n",
      "Wall time: 4.4 ms\n"
     ]
    }
   ],
   "source": [
    "%%time\n",
    "def find_char(c, string):\n",
    "    i = 0\n",
    "    while i < len(string):\n",
    "        if string[i] == c:\n",
    "            return True\n",
    "        i += 1\n",
    "    return False\n",
    "\n",
    "for _ in xrange(1000):\n",
    "    assert find_char('x', 'abcdefghijklmnopqrstuvwxyz')"
   ]
  },
  {
   "cell_type": "markdown",
   "metadata": {},
   "source": [
    "## Use the right data structure\n",
    "`set` (and `dict`) are slower than `list` to *create* or *add items to*, but they're faster to test for the presence of values. Which one is faster *overall* depends on how many times you're going to be add items to them, versus test whether they contain values.\n",
    "\n",
    "The examples below compare a thousand tests for whether a string is in a `list`, to whether it's in a `set`. The `set` case is about 30 times faster. "
   ]
  },
  {
   "cell_type": "code",
   "execution_count": 9,
   "metadata": {
    "collapsed": false
   },
   "outputs": [],
   "source": [
    "import random\n",
    "import string\n",
    "\n",
    "def generate_some_random_strings(count=1000):\n",
    "    \"\"\"Create a list of random strings. For use in performance testing, below.\n",
    "    \n",
    "    Examples:\n",
    "    >>> random.seed(1)\n",
    "    >>> generate_some_random_strings(2)\n",
    "    ['GrmMXVdjEB', 'sZdBLlT']\n",
    "    >>> generate_some_random_strings(3)\n",
    "    ['SRaedV', 'yoZKfSaObC', 'wRshXuKgDH']\n",
    "    \"\"\"\n",
    "    strings = []\n",
    "    letters = string.letters\n",
    "    for _ in xrange(count):\n",
    "        s = ''.join(random.sample(letters, len(letters))[:random.randint(5, 10)])\n",
    "        strings.append(s)\n",
    "    return strings\n",
    "\n",
    "import doctest\n",
    "doctest.run_docstring_examples(generate_some_random_strings, globals())"
   ]
  },
  {
   "cell_type": "code",
   "execution_count": 12,
   "metadata": {
    "collapsed": false
   },
   "outputs": [
    {
     "name": "stdout",
     "output_type": "stream",
     "text": [
      "CPU times: user 33.4 ms, sys: 8.32 ms, total: 41.7 ms\n",
      "Wall time: 36 ms\n"
     ]
    }
   ],
   "source": [
    "%%time\n",
    "\n",
    "random_string_array = generate_some_random_strings()\n",
    "for _ in xrange(1000):\n",
    "    s = random.choice(random_string_array)\n",
    "    assert s in random_string_array"
   ]
  },
  {
   "cell_type": "markdown",
   "metadata": {},
   "source": [
    "In the cell above, the `random_string_array` is tested against a number of times.\n",
    "In this case, it would be faster to use a `set`, to make all the tests faster."
   ]
  },
  {
   "cell_type": "code",
   "execution_count": 11,
   "metadata": {
    "collapsed": false
   },
   "outputs": [
    {
     "name": "stdout",
     "output_type": "stream",
     "text": [
      "CPU times: user 870 µs, sys: 614 µs, total: 1.48 ms\n",
      "Wall time: 1.04 ms\n"
     ]
    }
   ],
   "source": [
    "%%time\n",
    "import random\n",
    "\n",
    "random_string_array = generate_some_random_strings(2)\n",
    "random_string_set = set(random_string_array)\n",
    "for _ in xrange(1000):\n",
    "    s = random.choice(random_string_array)\n",
    "    assert s in random_string_set"
   ]
  },
  {
   "cell_type": "markdown",
   "metadata": {},
   "source": [
    "## Cache computed values\n",
    "One way to make code faster is to not run it so often. A common technique is to store (cache) the result of a computation the first time, and use the cached value from then on."
   ]
  },
  {
   "cell_type": "markdown",
   "metadata": {},
   "source": [
    "### Re-use computed values: Hoisting\n",
    "A common case for cached computation is when the computation is performed inside a loop, but produces the same value each time."
   ]
  },
  {
   "cell_type": "markdown",
   "metadata": {},
   "source": [
    "`case_insensitive_membership_test`, below, tests whether a candidate string is a member of a list of strings, ignoring case. (So `\"Monday\"` and `\"monday\"` are the same, for purposes of this test.)"
   ]
  },
  {
   "cell_type": "code",
   "execution_count": null,
   "metadata": {
    "collapsed": true
   },
   "outputs": [],
   "source": [
    "import random\n",
    "import string\n",
    "\n",
    "def generate_some_random_strings():\n",
    "    strings = []\n",
    "    letters = string.letters\n",
    "    for _ in xrange(1000):\n",
    "        s = ''.join(random.sample(letters, len(letters))[:random.randint(5, 10)])\n",
    "        strings.append(s)\n",
    "    return strings"
   ]
  },
  {
   "cell_type": "code",
   "execution_count": 59,
   "metadata": {
    "collapsed": false,
    "scrolled": false
   },
   "outputs": [
    {
     "name": "stdout",
     "output_type": "stream",
     "text": [
      "CPU times: user 446 ms, sys: 7.14 ms, total: 453 ms\n",
      "Wall time: 452 ms\n"
     ]
    }
   ],
   "source": [
    "%%time\n",
    "def case_insensitive_membership_test(candidate_string, strings):\n",
    "    \"\"\"\n",
    "    Examples:\n",
    "    >>> days_of_week = ['Monday', 'Tuesday', 'Wednesday', 'Thursday', 'Friday']\n",
    "    >>> case_insensitive_membership_test('monday', days_of_week)\n",
    "    True\n",
    "    >>> case_insensitive_membership_test('TUESDAY', days_of_week)\n",
    "    True\n",
    "    >>> case_insensitive_membership_test('wEdNeSdAy', days_of_week)\n",
    "    True\n",
    "    >>> case_insensitive_membership_test('February', days_of_week)\n",
    "    False\n",
    "    \"\"\"\n",
    "    for s in strings:\n",
    "        if candidate_string.lower() == s.lower():\n",
    "            return True\n",
    "    return False\n",
    "\n",
    "import doctest\n",
    "#doctest.run_docstring_examples(case_insensitive_membership_test, globals())\n",
    "\n",
    "strings = generate_some_random_strings() + ['Monday', 'Tuesday', 'Wednesday', 'Thursday', 'Friday']\n",
    "for _ in xrange(1000):\n",
    "    assert case_insensitive_membership_test('monday', strings)"
   ]
  },
  {
   "cell_type": "markdown",
   "metadata": {},
   "source": [
    "The implementation in the cell above computes `candidate_string.lower()` each time through the loop, even though its value stays the same each time.\n",
    "\n",
    "The implementation in the cell below “[hoists](https://en.wikipedia.org/wiki/Loop-invariant_code_motion)” the computation of `candidate_string.lower()` outside the loop, improves the performance. This implementation is 30% faster."
   ]
  },
  {
   "cell_type": "code",
   "execution_count": 77,
   "metadata": {
    "collapsed": false,
    "scrolled": true
   },
   "outputs": [
    {
     "name": "stdout",
     "output_type": "stream",
     "text": [
      "CPU times: user 312 ms, sys: 5.83 ms, total: 318 ms\n",
      "Wall time: 315 ms\n"
     ]
    }
   ],
   "source": [
    "%%time\n",
    "def case_insensitive_membership_test(candidate_string, strings):\n",
    "    \"\"\"\n",
    "    Examples:\n",
    "    >>> days_of_week = ['Monday', 'Tuesday', 'Wednesday', 'Thursday', 'Friday']\n",
    "    >>> case_insensitive_membership_test('monday', days_of_week)\n",
    "    True\n",
    "    >>> case_insensitive_membership_test('TUESDAY', days_of_week)\n",
    "    True\n",
    "    >>> case_insensitive_membership_test('wEdNeSdAy', days_of_week)\n",
    "    True\n",
    "    >>> case_insensitive_membership_test('February', days_of_week)\n",
    "    False\n",
    "    \"\"\"\n",
    "    candidate_string = candidate_string.lower()\n",
    "    for s in strings:\n",
    "        if candidate_string == s.lower():\n",
    "            return True\n",
    "    return False\n",
    "\n",
    "import doctest\n",
    "#doctest.run_docstring_examples(case_insensitive_membership_test, globals())\n",
    "\n",
    "strings = generate_some_random_strings() + ['Monday', 'Tuesday', 'Wednesday', 'Thursday', 'Friday']\n",
    "for _ in xrange(1000):\n",
    "    assert case_insensitive_membership_test('monday', strings)"
   ]
  },
  {
   "cell_type": "markdown",
   "metadata": {},
   "source": [
    "We'll return to this function later."
   ]
  },
  {
   "cell_type": "markdown",
   "metadata": {},
   "source": [
    "### Re-use computed values: Memoization"
   ]
  },
  {
   "cell_type": "markdown",
   "metadata": {
    "collapsed": true
   },
   "source": [
    "`fib`, below, is a straightforward implementation of the [Fibonacci function](https://en.wikipedia.org/wiki/Fibonacci_number). "
   ]
  },
  {
   "cell_type": "code",
   "execution_count": 89,
   "metadata": {
    "collapsed": false,
    "scrolled": true
   },
   "outputs": [
    {
     "name": "stdout",
     "output_type": "stream",
     "text": [
      "CPU times: user 424 ms, sys: 3.75 ms, total: 428 ms\n",
      "Wall time: 428 ms\n"
     ]
    }
   ],
   "source": [
    "%%time\n",
    "def fib(n):\n",
    "    \"\"\"\n",
    "    Examples:\n",
    "    >>> fib(0)\n",
    "    0\n",
    "    >>> fib(2)\n",
    "    1\n",
    "    >>> [fib(i) for i in xrange(10)]\n",
    "    [0, 1, 1, 2, 3, 5, 8, 13, 21, 34]\n",
    "    \"\"\"\n",
    "    if n <= 1:\n",
    "        global c\n",
    "        if n == 0: c += 1\n",
    "        return n\n",
    "    else:\n",
    "        return fib(n - 2) + fib(n - 1)\n",
    "\n",
    "import doctest\n",
    "#doctest.run_docstring_examples(fib, globals())\n",
    "\n",
    "fib(30)"
   ]
  },
  {
   "cell_type": "markdown",
   "metadata": {},
   "source": [
    "Computing `fib(n)` takes time proportional to $\\phi^n$, where $\\phi$ is the Golden Ration ${1 + \\sqrt(5)} \\over 2$. This is because a call to `fib(n)` results in one call to `fib(n-1)`,  two calls to `fib(n-2)`, three calls to `fib(n-3)`, *five* calls to `fib(n-4)`, and so on. In other words, it's *really slow*.\n",
    "\n",
    "Consider a call to `fib(30)`. `fib(28)` is the same both times we call it; `fib(27)` is the same all three times, and so on. Instead of computing each `fib` each time it's called, we can save (\"cache\") the result, and re-use that. This improves the performance of `fib(30)` by an order of magnitude; the improvement is larger for larger arguments to `fib`."
   ]
  },
  {
   "cell_type": "code",
   "execution_count": 91,
   "metadata": {
    "collapsed": false
   },
   "outputs": [
    {
     "name": "stdout",
     "output_type": "stream",
     "text": [
      "CPU times: user 39 µs, sys: 19 µs, total: 58 µs\n",
      "Wall time: 48.2 µs\n"
     ]
    }
   ],
   "source": [
    "%%time\n",
    "\n",
    "fib_cache = {}\n",
    "# This is a dictionary from `n` to `fib(n)`. It's a global variable, so give it a name\n",
    "# that is hopefully unique.\n",
    "\n",
    "# the original fib function, except it calls itself via `cached_fib` instead of directly\n",
    "def fib(n):\n",
    "    \"\"\"\n",
    "    Examples:\n",
    "    >>> fib(0)\n",
    "    0\n",
    "    >>> fib(2)\n",
    "    1\n",
    "    >>> [fib(i) for i in xrange(10)]\n",
    "    [0, 1, 1, 2, 3, 5, 8, 13, 21, 34]\n",
    "    \"\"\"\n",
    "    if n <= 1:\n",
    "        return n\n",
    "    else:\n",
    "        return cached_fib(n - 2) + cached_fib(n - 1)\n",
    "\n",
    "def cached_fib(n):\n",
    "    x = fib_cache.get(n)\n",
    "    if x is None:\n",
    "        x = fib(n)\n",
    "        fib_cache[n] = x\n",
    "    return x\n",
    "\n",
    "import doctest\n",
    "#doctest.run_docstring_examples(fib, globals())\n",
    "\n",
    "fib(30)"
   ]
  },
  {
   "cell_type": "markdown",
   "metadata": {},
   "source": [
    "This particular variety of caching, where the cache is a dictionary of input values to output values and is used to pre-empt a call to a function that computes those values, is called [memoization](https://en.wikipedia.org/wiki/Memoization)."
   ]
  },
  {
   "cell_type": "markdown",
   "metadata": {},
   "source": [
    "## Reduce object churn"
   ]
  },
  {
   "cell_type": "markdown",
   "metadata": {},
   "source": [
    "`range` creates a list. `xrange` creates an object that supplies numbers to a `for` loop, one by one, but never actually makes a place to put all the numbers at once.\n",
    "\n",
    "Where we don't care about the list itself – just about getting a sequence of values from it – `xrange` can be faster.\n",
    "\n",
    "Compare the timings below, that iterate over a million elements."
   ]
  },
  {
   "cell_type": "code",
   "execution_count": 3,
   "metadata": {
    "collapsed": false
   },
   "outputs": [
    {
     "name": "stdout",
     "output_type": "stream",
     "text": [
      "333332833333500000\n",
      "CPU times: user 172 ms, sys: 2.79 ms, total: 175 ms\n",
      "Wall time: 174 ms\n"
     ]
    }
   ],
   "source": [
    "%%time\n",
    "\n",
    "accum = 0\n",
    "for i in range(1000 * 1000):\n",
    "    accum += i ** 2\n",
    "print accum"
   ]
  },
  {
   "cell_type": "code",
   "execution_count": 4,
   "metadata": {
    "collapsed": false
   },
   "outputs": [
    {
     "name": "stdout",
     "output_type": "stream",
     "text": [
      "333332833333500000\n",
      "CPU times: user 144 ms, sys: 2.76 ms, total: 146 ms\n",
      "Wall time: 145 ms\n"
     ]
    }
   ],
   "source": [
    "%%time\n",
    "\n",
    "accum = 0\n",
    "for i in xrange(1000 * 1000):\n",
    "    accum += i ** 2\n",
    "print accum"
   ]
  },
  {
   "cell_type": "code",
   "execution_count": 5,
   "metadata": {
    "collapsed": false
   },
   "outputs": [
    {
     "name": "stdout",
     "output_type": "stream",
     "text": [
      "CPU times: user 119 ms, sys: 1.28 ms, total: 120 ms\n",
      "Wall time: 120 ms\n"
     ]
    },
    {
     "data": {
      "text/plain": [
       "333332833333500000"
      ]
     },
     "execution_count": 5,
     "metadata": {},
     "output_type": "execute_result"
    }
   ],
   "source": [
    "%%time\n",
    "sum(i**2 for i in range(1000 * 1000))"
   ]
  },
  {
   "cell_type": "code",
   "execution_count": 6,
   "metadata": {
    "collapsed": false
   },
   "outputs": [
    {
     "name": "stdout",
     "output_type": "stream",
     "text": [
      "CPU times: user 96.2 ms, sys: 2.31 ms, total: 98.5 ms\n",
      "Wall time: 97.4 ms\n"
     ]
    },
    {
     "data": {
      "text/plain": [
       "333332833333500000"
      ]
     },
     "execution_count": 6,
     "metadata": {},
     "output_type": "execute_result"
    }
   ],
   "source": [
    "%%time\n",
    "sum(i**2 for i in xrange(1000 * 1000))"
   ]
  },
  {
   "cell_type": "markdown",
   "metadata": {},
   "source": [
    "## Pre-processing"
   ]
  },
  {
   "cell_type": "markdown",
   "metadata": {},
   "source": [
    "Now return to `case_insensitive_membership_test`, repeated below."
   ]
  },
  {
   "cell_type": "code",
   "execution_count": 92,
   "metadata": {
    "collapsed": false,
    "scrolled": true
   },
   "outputs": [],
   "source": [
    "def case_insensitive_membership_test(candidate_string, strings):\n",
    "    candidate_string = candidate_string.lower()\n",
    "    for s in strings:\n",
    "        if candidate_string == s.lower():\n",
    "            return True\n",
    "    return False"
   ]
  },
  {
   "cell_type": "markdown",
   "metadata": {},
   "source": [
    "Previously we moved the call to `candidate_string.lower()` outside the loop. We can go further, moving the calls to `s.lower()` outside the loop too (and outside the entire function).\n",
    "\n",
    "We do this by moving these calls into another function, `make_case_insensitive_list`, that's called only once. `make_case_insensitive_list` returns a value that captures the work that's independent of the specific candidate string. (In this case, the value is a list of lowercase strings, that `s.lower()` no longer needs to be applied to.) `search_case_insensitive_list` re-uses this value each time we need to look for a *new* candidate string in the *same* list."
   ]
  },
  {
   "cell_type": "code",
   "execution_count": 60,
   "metadata": {
    "collapsed": false
   },
   "outputs": [
    {
     "name": "stdout",
     "output_type": "stream",
     "text": [
      "CPU times: user 73.4 ms, sys: 3.64 ms, total: 77 ms\n",
      "Wall time: 74.9 ms\n"
     ]
    }
   ],
   "source": [
    "%%time\n",
    "def make_case_insensitive_list(strings):\n",
    "    \"\"\"Construct a data structure that can be searched quickly for a string, ignoring case.\"\"\"\n",
    "    return [s.lower() for s in strings]\n",
    "\n",
    "def search_case_insensitive_list(candidate_string, lowercase_strings):\n",
    "    \"\"\"\n",
    "    Examples:\n",
    "    >>> days_of_week = ['Monday', 'Tuesday', 'Wednesday', 'Thursday', 'Friday']\n",
    "    >>> case_insensitive_list = make_case_insensitive_list(days_of_week)\n",
    "    >>> search_case_insensitive_list('monday', case_insensitive_list)\n",
    "    True\n",
    "    >>> search_case_insensitive_list('TUESDAY', case_insensitive_list)\n",
    "    True\n",
    "    >>> search_case_insensitive_list('wEdNeSdAy', case_insensitive_list)\n",
    "    True\n",
    "    >>> case_insensitive_membership_test('February', days_of_week)\n",
    "    False\n",
    "    \"\"\"\n",
    "    string = string.lower()\n",
    "    for s in lowercase_strings:\n",
    "        if candidate_string == s:\n",
    "            return True\n",
    "    return False\n",
    "\n",
    "import doctest\n",
    "#doctest.run_docstring_examples(search_case_insensitive_list, globals())\n",
    "\n",
    "strings = generate_some_random_strings() + ['Monday', 'Tuesday', 'Wednesday', 'Thursday', 'Friday']\n",
    "case_insensitive_list = make_case_insensitive_list(strings)\n",
    "for _ in xrange(1000):\n",
    "    assert search_case_insensitive_list('monday', case_insensitive_list)"
   ]
  },
  {
   "cell_type": "markdown",
   "metadata": {},
   "source": [
    "This transformation *helps* this specific pattern, where there's *one* list that's searched for *multiple* candidate strings. It would *hurt* in a different usage pattern, where the list to be searched is different each time. (Why?)\n",
    "\n",
    "Note that this transformation simplifies the body of the `for` loop, to where we can apply the \"use a built-in function\" strategy:"
   ]
  },
  {
   "cell_type": "code",
   "execution_count": 62,
   "metadata": {
    "collapsed": false
   },
   "outputs": [
    {
     "name": "stdout",
     "output_type": "stream",
     "text": [
      "CPU times: user 38.9 ms, sys: 5.73 ms, total: 44.6 ms\n",
      "Wall time: 40.8 ms\n"
     ]
    }
   ],
   "source": [
    "%%time\n",
    "def make_case_insensitive_list(strings):\n",
    "    \"\"\"Construct a data structure that can be searched quickly for a string, ignoring case.\"\"\"\n",
    "    return [s.lower() for s in strings]\n",
    "\n",
    "def search_case_insensitive_list(candidate_string, lowercase_strings):\n",
    "    \"\"\"\n",
    "    Examples:\n",
    "    >>> days_of_week = ['Monday', 'Tuesday', 'Wednesday', 'Thursday', 'Friday']\n",
    "    >>> case_insensitive_list = make_case_insensitive_list(days_of_week)\n",
    "    >>> search_case_insensitive_list('monday', case_insensitive_list)\n",
    "    True\n",
    "    >>> search_case_insensitive_list('TUESDAY', case_insensitive_list)\n",
    "    True\n",
    "    >>> search_case_insensitive_list('wEdNeSdAy', case_insensitive_list)\n",
    "    True\n",
    "    >>> case_insensitive_membership_test('February', days_of_week)\n",
    "    False\n",
    "    \"\"\"\n",
    "    return candidate_string.lower() in lowercase_strings\n",
    "\n",
    "import doctest\n",
    "#doctest.run_docstring_examples(search_case_insensitive_list, globals())\n",
    "\n",
    "strings = generate_some_random_strings() + ['Monday', 'Tuesday', 'Wednesday', 'Thursday', 'Friday']\n",
    "case_insensitive_list = make_case_insensitive_list(strings)\n",
    "for _ in xrange(1000):\n",
    "    assert search_case_insensitive_list('monday', case_insensitive_list)"
   ]
  },
  {
   "cell_type": "markdown",
   "metadata": {},
   "source": [
    "And now we can apply \"use the right data structure\", for the fastest time yet: 30.8 ms, down from an initial 453 ms."
   ]
  },
  {
   "cell_type": "code",
   "execution_count": 65,
   "metadata": {
    "collapsed": false
   },
   "outputs": [
    {
     "name": "stdout",
     "output_type": "stream",
     "text": [
      "CPU times: user 27.1 ms, sys: 3.73 ms, total: 30.8 ms\n",
      "Wall time: 28.6 ms\n"
     ]
    }
   ],
   "source": [
    "%%time\n",
    "def make_case_insensitive_set(strings):\n",
    "    \"\"\"Construct a data structure that can be searched quickly for a string, ignoring case.\"\"\"\n",
    "    return set([s.lower() for s in strings])\n",
    "\n",
    "def search_case_insensitive_set(candidate_string, lowercase_strings):\n",
    "    \"\"\"\n",
    "    Examples:\n",
    "    >>> days_of_week = ['Monday', 'Tuesday', 'Wednesday', 'Thursday', 'Friday']\n",
    "    >>> make_case_insensitive_set = make_case_insensitive_list(days_of_week)\n",
    "    >>> search_case_insensitive_set('monday', case_insensitive_list)\n",
    "    True\n",
    "    >>> search_case_insensitive_set('TUESDAY', case_insensitive_list)\n",
    "    True\n",
    "    >>> search_case_insensitive_set('wEdNeSdAy', case_insensitive_list)\n",
    "    True\n",
    "    >>> search_case_insensitive_set('February', days_of_week)\n",
    "    False\n",
    "    \"\"\"\n",
    "    return candidate_string.lower() in lowercase_strings\n",
    "\n",
    "import doctest\n",
    "#doctest.run_docstring_examples(search_case_insensitive_list, globals())\n",
    "\n",
    "strings = generate_some_random_strings() + ['Monday', 'Tuesday', 'Wednesday', 'Thursday', 'Friday']\n",
    "case_insensitive_list = make_case_insensitive_list(strings)\n",
    "for _ in xrange(1000):\n",
    "    assert search_case_insensitive_list('monday', case_insensitive_list)"
   ]
  }
 ],
 "metadata": {
  "kernelspec": {
   "display_name": "Python 2",
   "language": "python",
   "name": "python2"
  },
  "language_info": {
   "codemirror_mode": {
    "name": "ipython",
    "version": 2
   },
   "file_extension": ".py",
   "mimetype": "text/x-python",
   "name": "python",
   "nbconvert_exporter": "python",
   "pygments_lexer": "ipython2",
   "version": "2.7.11"
  }
 },
 "nbformat": 4,
 "nbformat_minor": 0
}
