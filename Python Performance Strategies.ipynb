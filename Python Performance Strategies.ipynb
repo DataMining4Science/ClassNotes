{
 "cells": [
  {
   "cell_type": "markdown",
   "metadata": {},
   "source": [
    "# Python Performance Techniques\n",
    "This notebook explores some techniques for improving the speed of Python programs.\n",
    "Note the times below each cell, and compare them between implementations.\n",
    "If you run the same cells on your computer, you'll get different times, but the *ratios* between different implementations should stay about the same. "
   ]
  },
  {
   "cell_type": "markdown",
   "metadata": {},
   "source": [
    "## Use built-in functions"
   ]
  },
  {
   "cell_type": "code",
   "execution_count": 8,
   "metadata": {
    "collapsed": false
   },
   "outputs": [
    {
     "name": "stdout",
     "output_type": "stream",
     "text": [
      "CPU times: user 142 µs, sys: 119 µs, total: 261 µs\n",
      "Wall time: 181 µs\n"
     ]
    }
   ],
   "source": [
    "%%time\n",
    "for _ in xrange(1000):\n",
    "    assert 'x' in 'abcdefghijklmnopqrstuvwxyz'"
   ]
  },
  {
   "cell_type": "code",
   "execution_count": 10,
   "metadata": {
    "collapsed": false,
    "scrolled": true
   },
   "outputs": [
    {
     "name": "stdout",
     "output_type": "stream",
     "text": [
      "CPU times: user 2.26 ms, sys: 633 µs, total: 2.9 ms\n",
      "Wall time: 2.56 ms\n"
     ]
    }
   ],
   "source": [
    "%%time\n",
    "def find_char(c, string):\n",
    "    for c1 in string:\n",
    "        if c == c1:\n",
    "            return True\n",
    "    return False\n",
    "\n",
    "for _ in xrange(1000):\n",
    "    assert find_char('x', 'abcdefghijklmnopqrstuvwxyz')"
   ]
  },
  {
   "cell_type": "code",
   "execution_count": 12,
   "metadata": {
    "collapsed": false
   },
   "outputs": [
    {
     "name": "stdout",
     "output_type": "stream",
     "text": [
      "CPU times: user 2.61 ms, sys: 848 µs, total: 3.46 ms\n",
      "Wall time: 2.88 ms\n"
     ]
    }
   ],
   "source": [
    "%%time\n",
    "def find_char(c, string):\n",
    "    for i in range(len(string)):\n",
    "        if string[i] == c:\n",
    "            return True\n",
    "    return False\n",
    "\n",
    "for _ in xrange(1000):\n",
    "    assert find_char('x', 'abcdefghijklmnopqrstuvwxyz')"
   ]
  },
  {
   "cell_type": "code",
   "execution_count": 14,
   "metadata": {
    "collapsed": false
   },
   "outputs": [
    {
     "name": "stdout",
     "output_type": "stream",
     "text": [
      "CPU times: user 4.16 ms, sys: 1.14 ms, total: 5.3 ms\n",
      "Wall time: 4.4 ms\n"
     ]
    }
   ],
   "source": [
    "%%time\n",
    "def find_char(c, string):\n",
    "    i = 0\n",
    "    while i < len(string):\n",
    "        if string[i] == c:\n",
    "            return True\n",
    "        i += 1\n",
    "    return False\n",
    "\n",
    "for _ in xrange(1000):\n",
    "    assert find_char('x', 'abcdefghijklmnopqrstuvwxyz')"
   ]
  },
  {
   "cell_type": "markdown",
   "metadata": {},
   "source": [
    "## Use the right data structure"
   ]
  },
  {
   "cell_type": "code",
   "execution_count": 75,
   "metadata": {
    "collapsed": false
   },
   "outputs": [
    {
     "name": "stdout",
     "output_type": "stream",
     "text": [
      "CPU times: user 33.3 ms, sys: 3.96 ms, total: 37.3 ms\n",
      "Wall time: 34.6 ms\n"
     ]
    }
   ],
   "source": [
    "%%time\n",
    "import random\n",
    "\n",
    "def generate_some_random_strings(count=1000):\n",
    "    strings = []\n",
    "    letters = string.letters\n",
    "    for _ in xrange(count):\n",
    "        word = ''.join(random.sample(letters, len(letters))[:random.randint(5, 10)])\n",
    "        strings.append(word)\n",
    "    return strings\n",
    "\n",
    "random_string_array = generate_some_random_strings()\n",
    "for _ in xrange(1000):\n",
    "    w = random.choice(random_string_array)\n",
    "    assert w in random_string_array"
   ]
  },
  {
   "cell_type": "code",
   "execution_count": 76,
   "metadata": {
    "collapsed": false
   },
   "outputs": [
    {
     "name": "stdout",
     "output_type": "stream",
     "text": [
      "CPU times: user 874 µs, sys: 556 µs, total: 1.43 ms\n",
      "Wall time: 1.05 ms\n"
     ]
    }
   ],
   "source": [
    "%%time\n",
    "import random\n",
    "\n",
    "random_string_array = generate_some_random_strings(2)\n",
    "random_string_set = set(random_string_array)\n",
    "for _ in xrange(1000):\n",
    "    w = random.choice(random_string_array)\n",
    "    assert w in random_string_set"
   ]
  },
  {
   "cell_type": "markdown",
   "metadata": {},
   "source": [
    "## Re-use Computed Values"
   ]
  },
  {
   "cell_type": "markdown",
   "metadata": {},
   "source": [
    "Here's a function that tests whether a candidate string is a member of a list of strings, ignoring case. (So `\"Monday\"` and `\"monday\"` are the same, for purposes of this test.) `candidate_string.lower()` is computed each time through the loop, even though its value stays the same each time."
   ]
  },
  {
   "cell_type": "code",
   "execution_count": 59,
   "metadata": {
    "collapsed": false,
    "scrolled": false
   },
   "outputs": [
    {
     "name": "stdout",
     "output_type": "stream",
     "text": [
      "CPU times: user 446 ms, sys: 7.14 ms, total: 453 ms\n",
      "Wall time: 452 ms\n"
     ]
    }
   ],
   "source": [
    "%%time\n",
    "import random\n",
    "import string\n",
    "\n",
    "def case_insensitive_membership_test(candidate_string, strings):\n",
    "    \"\"\"\n",
    "    Examples:\n",
    "    >>> days_of_week = ['Monday', 'Tuesday', 'Wednesday', 'Thursday', 'Friday']\n",
    "    >>> case_insensitive_membership_test('monday', days_of_week)\n",
    "    True\n",
    "    >>> case_insensitive_membership_test('TUESDAY', days_of_week)\n",
    "    True\n",
    "    >>> case_insensitive_membership_test('wEdNeSdAy', days_of_week)\n",
    "    True\n",
    "    >>> case_insensitive_membership_test('February', days_of_week)\n",
    "    False\n",
    "    \"\"\"\n",
    "    for w in strings:\n",
    "        if candidate_string.lower() == w.lower():\n",
    "            return True\n",
    "    return False\n",
    "\n",
    "import doctest\n",
    "#doctest.run_docstring_examples(case_insensitive_membership_test, globals())\n",
    "\n",
    "def generate_some_random_strings():\n",
    "    strings = []\n",
    "    letters = string.letters\n",
    "    for _ in xrange(1000):\n",
    "        word = ''.join(random.sample(letters, len(letters))[:random.randint(5, 10)])\n",
    "        strings.append(word)\n",
    "    return strings\n",
    "\n",
    "strings = generate_some_random_strings() + ['Monday', 'Tuesday', 'Wednesday', 'Thursday', 'Friday']\n",
    "for _ in xrange(1000):\n",
    "    assert case_insensitive_membership_test('monday', strings)"
   ]
  },
  {
   "cell_type": "markdown",
   "metadata": {},
   "source": [
    "“[Hoisting](https://en.wikipedia.org/wiki/Loop-invariant_code_motion)” the computation of `candidate_string.lower()` outside the loop improves the performance."
   ]
  },
  {
   "cell_type": "code",
   "execution_count": 77,
   "metadata": {
    "collapsed": false,
    "scrolled": true
   },
   "outputs": [
    {
     "name": "stdout",
     "output_type": "stream",
     "text": [
      "CPU times: user 312 ms, sys: 5.83 ms, total: 318 ms\n",
      "Wall time: 315 ms\n"
     ]
    }
   ],
   "source": [
    "%%time\n",
    "import random\n",
    "import string\n",
    "\n",
    "def case_insensitive_membership_test(candidate_string, strings):\n",
    "    \"\"\"\n",
    "    Examples:\n",
    "    >>> days_of_week = ['Monday', 'Tuesday', 'Wednesday', 'Thursday', 'Friday']\n",
    "    >>> case_insensitive_membership_test('monday', days_of_week)\n",
    "    True\n",
    "    >>> case_insensitive_membership_test('TUESDAY', days_of_week)\n",
    "    True\n",
    "    >>> case_insensitive_membership_test('wEdNeSdAy', days_of_week)\n",
    "    True\n",
    "    >>> case_insensitive_membership_test('February', days_of_week)\n",
    "    False\n",
    "    \"\"\"\n",
    "    candidate_string = candidate_string.lower()\n",
    "    for w in strings:\n",
    "        if candidate_string == w.lower():\n",
    "            return True\n",
    "    return False\n",
    "\n",
    "import doctest\n",
    "#doctest.run_docstring_examples(case_insensitive_membership_test, globals())\n",
    "\n",
    "strings = generate_some_random_strings() + ['Monday', 'Tuesday', 'Wednesday', 'Thursday', 'Friday']\n",
    "for _ in xrange(1000):\n",
    "    assert case_insensitive_membership_test('monday', strings)"
   ]
  },
  {
   "cell_type": "markdown",
   "metadata": {},
   "source": [
    "## Pre-process re-used data into a more efficient data structure"
   ]
  },
  {
   "cell_type": "markdown",
   "metadata": {},
   "source": [
    "If we're searching for a number of different candidate strings within the *same* list, we can hoist the work that's repeated for each function call, outside the function. In this case, instead of calling `s.lower()` for each string in the list each time we search it, we create a data structure to which this has already been done, and re-use it for each search.\n",
    "\n",
    "This *helps* the pattern of usage below, where there's one list that we search multiple times. It would *hurt* in a different usage pattern (not shown), where the list is different each time. (Why?)"
   ]
  },
  {
   "cell_type": "code",
   "execution_count": 60,
   "metadata": {
    "collapsed": false
   },
   "outputs": [
    {
     "name": "stdout",
     "output_type": "stream",
     "text": [
      "CPU times: user 73.4 ms, sys: 3.64 ms, total: 77 ms\n",
      "Wall time: 74.9 ms\n"
     ]
    }
   ],
   "source": [
    "%%time\n",
    "def make_case_insensitive_list(strings):\n",
    "    \"\"\"Construct a data structure that can be searched quickly for a string, ignoring case.\"\"\"\n",
    "    return [s.lower() for s in strings]\n",
    "\n",
    "def search_case_insensitive_list(candidate_string, lowercase_strings):\n",
    "    \"\"\"\n",
    "    Examples:\n",
    "    >>> days_of_week = ['Monday', 'Tuesday', 'Wednesday', 'Thursday', 'Friday']\n",
    "    >>> case_insensitive_list = make_case_insensitive_list(days_of_week)\n",
    "    >>> search_case_insensitive_list('monday', case_insensitive_list)\n",
    "    True\n",
    "    >>> search_case_insensitive_list('TUESDAY', case_insensitive_list)\n",
    "    True\n",
    "    >>> search_case_insensitive_list('wEdNeSdAy', case_insensitive_list)\n",
    "    True\n",
    "    >>> case_insensitive_membership_test('February', days_of_week)\n",
    "    False\n",
    "    \"\"\"\n",
    "    string = string.lower()\n",
    "    for w in lowercase_strings:\n",
    "        if candidate_string == w:\n",
    "            return True\n",
    "    return False\n",
    "\n",
    "import doctest\n",
    "#doctest.run_docstring_examples(search_case_insensitive_list, globals())\n",
    "\n",
    "strings = generate_some_random_strings() + ['Monday', 'Tuesday', 'Wednesday', 'Thursday', 'Friday']\n",
    "case_insensitive_list = make_case_insensitive_list(strings)\n",
    "for _ in xrange(1000):\n",
    "    assert search_case_insensitive_list('monday', case_insensitive_list)"
   ]
  },
  {
   "cell_type": "markdown",
   "metadata": {},
   "source": [
    "Note that this simplifies the program to where we can apply the \"use a built-in function\" technique:"
   ]
  },
  {
   "cell_type": "code",
   "execution_count": 62,
   "metadata": {
    "collapsed": false
   },
   "outputs": [
    {
     "name": "stdout",
     "output_type": "stream",
     "text": [
      "CPU times: user 38.9 ms, sys: 5.73 ms, total: 44.6 ms\n",
      "Wall time: 40.8 ms\n"
     ]
    }
   ],
   "source": [
    "%%time\n",
    "def make_case_insensitive_list(strings):\n",
    "    \"\"\"Construct a data structure that can be searched quickly for a string, ignoring case.\"\"\"\n",
    "    return [string.lower() for string in strings]\n",
    "\n",
    "def search_case_insensitive_list(string, lowercase_strings):\n",
    "    \"\"\"\n",
    "    Examples:\n",
    "    >>> days_of_week = ['Monday', 'Tuesday', 'Wednesday', 'Thursday', 'Friday']\n",
    "    >>> case_insensitive_list = make_case_insensitive_list(days_of_week)\n",
    "    >>> search_case_insensitive_list('monday', case_insensitive_list)\n",
    "    True\n",
    "    >>> search_case_insensitive_list('TUESDAY', case_insensitive_list)\n",
    "    True\n",
    "    >>> search_case_insensitive_list('wEdNeSdAy', case_insensitive_list)\n",
    "    True\n",
    "    >>> case_insensitive_membership_test('February', days_of_week)\n",
    "    False\n",
    "    \"\"\"\n",
    "    return string.lower() in lowercase_strings\n",
    "\n",
    "import doctest\n",
    "#doctest.run_docstring_examples(search_case_insensitive_list, globals())\n",
    "\n",
    "strings = generate_some_random_strings() + ['Monday', 'Tuesday', 'Wednesday', 'Thursday', 'Friday']\n",
    "case_insensitive_list = make_case_insensitive_list(strings)\n",
    "for _ in xrange(1000):\n",
    "    assert search_case_insensitive_list('monday', case_insensitive_list)"
   ]
  },
  {
   "cell_type": "markdown",
   "metadata": {},
   "source": [
    "And now we can apply \"use the right data structure\", for the fastest time yet: 30.8 ms, down from an initial 453 ms."
   ]
  },
  {
   "cell_type": "code",
   "execution_count": 65,
   "metadata": {
    "collapsed": false
   },
   "outputs": [
    {
     "name": "stdout",
     "output_type": "stream",
     "text": [
      "CPU times: user 27.1 ms, sys: 3.73 ms, total: 30.8 ms\n",
      "Wall time: 28.6 ms\n"
     ]
    }
   ],
   "source": [
    "%%time\n",
    "def make_case_insensitive_set(strings):\n",
    "    \"\"\"Construct a data structure that can be searched quickly for a string, ignoring case.\"\"\"\n",
    "    return set([string.lower() for string in strings])\n",
    "\n",
    "def search_case_insensitive_set(string, lowercase_strings):\n",
    "    \"\"\"\n",
    "    Examples:\n",
    "    >>> days_of_week = ['Monday', 'Tuesday', 'Wednesday', 'Thursday', 'Friday']\n",
    "    >>> make_case_insensitive_set = make_case_insensitive_list(days_of_week)\n",
    "    >>> search_case_insensitive_set('monday', case_insensitive_list)\n",
    "    True\n",
    "    >>> search_case_insensitive_set('TUESDAY', case_insensitive_list)\n",
    "    True\n",
    "    >>> search_case_insensitive_set('wEdNeSdAy', case_insensitive_list)\n",
    "    True\n",
    "    >>> search_case_insensitive_set('February', days_of_week)\n",
    "    False\n",
    "    \"\"\"\n",
    "    return string.lower() in lowercase_strings\n",
    "\n",
    "import doctest\n",
    "#doctest.run_docstring_examples(search_case_insensitive_list, globals())\n",
    "\n",
    "strings = generate_some_random_strings() + ['Monday', 'Tuesday', 'Wednesday', 'Thursday', 'Friday']\n",
    "case_insensitive_list = make_case_insensitive_list(strings)\n",
    "for _ in xrange(1000):\n",
    "    assert search_case_insensitive_list('monday', case_insensitive_list)"
   ]
  },
  {
   "cell_type": "markdown",
   "metadata": {},
   "source": [
    "## Caching (Memoization)"
   ]
  },
  {
   "cell_type": "markdown",
   "metadata": {
    "collapsed": true
   },
   "source": [
    "Here's another use of caching. `fib` is the naive implementation of the [Fibonacci function](https://en.wikipedia.org/wiki/Fibonacci_number). \n",
    "\n",
    "Using this function to compute `fib(n)` takes time proportional to $\\phi^n$, where $\\phi$ is the Golden Ration ${1 + \\sqrt(5)} \\over 2$. This is because it calls `fib(n-1)` once, `fib(n-2)` twice, `fib(n-3)` three times, `fib(n-4)` five times, and so on. In other words, it's *really slow*."
   ]
  },
  {
   "cell_type": "code",
   "execution_count": 89,
   "metadata": {
    "collapsed": false
   },
   "outputs": [
    {
     "name": "stdout",
     "output_type": "stream",
     "text": [
      "CPU times: user 424 ms, sys: 3.75 ms, total: 428 ms\n",
      "Wall time: 428 ms\n"
     ]
    }
   ],
   "source": [
    "%%time\n",
    "def fib(n):\n",
    "    \"\"\"\n",
    "    Examples:\n",
    "    >>> fib(0)\n",
    "    0\n",
    "    >>> fib(2)\n",
    "    1\n",
    "    >>> [fib(i) for i in xrange(10)]\n",
    "    [0, 1, 1, 2, 3, 5, 8, 13, 21, 34]\n",
    "    \"\"\"\n",
    "    if n <= 1:\n",
    "        global c\n",
    "        if n == 0: c += 1\n",
    "        return n\n",
    "    else:\n",
    "        return fib(n - 2) + fib(n - 1)\n",
    "\n",
    "import doctest\n",
    "#doctest.run_docstring_examples(fib, globals())\n",
    "\n",
    "fib(30)"
   ]
  },
  {
   "cell_type": "markdown",
   "metadata": {},
   "source": [
    "`fib(n)` is the same each time we call it. Instead of computing it each time, save the result and re-use it. This is an order of magnitude faster for `fib(30)`; the improvement is larger for larger numbers."
   ]
  },
  {
   "cell_type": "code",
   "execution_count": 91,
   "metadata": {
    "collapsed": false
   },
   "outputs": [
    {
     "name": "stdout",
     "output_type": "stream",
     "text": [
      "CPU times: user 39 µs, sys: 19 µs, total: 58 µs\n",
      "Wall time: 48.2 µs\n"
     ]
    }
   ],
   "source": [
    "%%time\n",
    "\n",
    "fib_cache = {}\n",
    "# This is a dictionary from `n` to `fib(n)`. It's a global variable, so give it a name\n",
    "# that is hopefully unique.\n",
    "\n",
    "# the original fib function, except it calls itself via `cached_fib` instead of directly\n",
    "def fib(n):\n",
    "    \"\"\"\n",
    "    Examples:\n",
    "    >>> fib(0)\n",
    "    0\n",
    "    >>> fib(2)\n",
    "    1\n",
    "    >>> [fib(i) for i in xrange(10)]\n",
    "    [0, 1, 1, 2, 3, 5, 8, 13, 21, 34]\n",
    "    \"\"\"\n",
    "    if n <= 1:\n",
    "        return n\n",
    "    else:\n",
    "        return cached_fib(n - 2) + cached_fib(n - 1)\n",
    "\n",
    "def cached_fib(n):\n",
    "    x = fib_cache.get(n)\n",
    "    if x is None:\n",
    "        x = fib(n)\n",
    "        fib_cache[n] = x\n",
    "    return x\n",
    "\n",
    "import doctest\n",
    "#doctest.run_docstring_examples(fib, globals())\n",
    "\n",
    "fib(30)"
   ]
  }
 ],
 "metadata": {
  "kernelspec": {
   "display_name": "Python 2",
   "language": "python",
   "name": "python2"
  },
  "language_info": {
   "codemirror_mode": {
    "name": "ipython",
    "version": 2
   },
   "file_extension": ".py",
   "mimetype": "text/x-python",
   "name": "python",
   "nbconvert_exporter": "python",
   "pygments_lexer": "ipython2",
   "version": "2.7.11"
  }
 },
 "nbformat": 4,
 "nbformat_minor": 0
}
